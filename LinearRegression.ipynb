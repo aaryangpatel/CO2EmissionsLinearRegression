{
 "cells": [
  {
   "cell_type": "code",
   "id": "initial_id",
   "metadata": {
    "collapsed": true,
    "ExecuteTime": {
     "end_time": "2025-01-06T16:24:47.392830Z",
     "start_time": "2025-01-06T16:24:47.389538Z"
    }
   },
   "source": [
    "import numpy as np\n",
    "import matplotlib.pyplot as plt\n",
    "import pandas as pd"
   ],
   "outputs": [],
   "execution_count": 34
  },
  {
   "metadata": {
    "ExecuteTime": {
     "end_time": "2025-01-06T16:25:18.235326Z",
     "start_time": "2025-01-06T16:25:18.218861Z"
    }
   },
   "cell_type": "code",
   "source": [
    "df = pd.read_csv('input.csv')\n",
    "print(df)"
   ],
   "id": "b480453b90c36ff5",
   "outputs": [
    {
     "name": "stdout",
     "output_type": "stream",
     "text": [
      "       Make        Model   Vehicle Class  Engine Size(L)  Cylinders  \\\n",
      "0     ACURA          ILX         COMPACT             2.0          4   \n",
      "1     ACURA          ILX         COMPACT             2.4          4   \n",
      "2     ACURA   ILX HYBRID         COMPACT             1.5          4   \n",
      "3     ACURA      MDX 4WD     SUV - SMALL             3.5          6   \n",
      "4     ACURA      RDX AWD     SUV - SMALL             3.5          6   \n",
      "...     ...          ...             ...             ...        ...   \n",
      "7380  VOLVO  XC40 T5 AWD     SUV - SMALL             2.0          4   \n",
      "7381  VOLVO  XC60 T5 AWD     SUV - SMALL             2.0          4   \n",
      "7382  VOLVO  XC60 T6 AWD     SUV - SMALL             2.0          4   \n",
      "7383  VOLVO  XC90 T5 AWD  SUV - STANDARD             2.0          4   \n",
      "7384  VOLVO  XC90 T6 AWD  SUV - STANDARD             2.0          4   \n",
      "\n",
      "     Transmission Fuel Type  Fuel Consumption City (L/100 km)  \\\n",
      "0             AS5         Z                               9.9   \n",
      "1              M6         Z                              11.2   \n",
      "2             AV7         Z                               6.0   \n",
      "3             AS6         Z                              12.7   \n",
      "4             AS6         Z                              12.1   \n",
      "...           ...       ...                               ...   \n",
      "7380          AS8         Z                              10.7   \n",
      "7381          AS8         Z                              11.2   \n",
      "7382          AS8         Z                              11.7   \n",
      "7383          AS8         Z                              11.2   \n",
      "7384          AS8         Z                              12.2   \n",
      "\n",
      "      Fuel Consumption Hwy (L/100 km)  Fuel Consumption Comb (L/100 km)  \\\n",
      "0                                 6.7                               8.5   \n",
      "1                                 7.7                               9.6   \n",
      "2                                 5.8                               5.9   \n",
      "3                                 9.1                              11.1   \n",
      "4                                 8.7                              10.6   \n",
      "...                               ...                               ...   \n",
      "7380                              7.7                               9.4   \n",
      "7381                              8.3                               9.9   \n",
      "7382                              8.6                              10.3   \n",
      "7383                              8.3                               9.9   \n",
      "7384                              8.7                              10.7   \n",
      "\n",
      "      Fuel Consumption Comb (mpg)  CO2 Emissions(g/km)  \n",
      "0                              33                  196  \n",
      "1                              29                  221  \n",
      "2                              48                  136  \n",
      "3                              25                  255  \n",
      "4                              27                  244  \n",
      "...                           ...                  ...  \n",
      "7380                           30                  219  \n",
      "7381                           29                  232  \n",
      "7382                           27                  240  \n",
      "7383                           29                  232  \n",
      "7384                           26                  248  \n",
      "\n",
      "[7385 rows x 12 columns]\n"
     ]
    }
   ],
   "execution_count": 37
  },
  {
   "metadata": {
    "ExecuteTime": {
     "end_time": "2025-01-06T16:34:15.858055Z",
     "start_time": "2025-01-06T16:34:15.852209Z"
    }
   },
   "cell_type": "code",
   "source": [
    "df = df.sample(frac=1, random_state=1)\n",
    "split = int (0.8*len(df))\n",
    "\n",
    "train_X = df[:split]['Fuel Consumption Comb (mpg)']\n",
    "train_Y = df[:split]['CO2 Emissions(g/km)']\n",
    "\n",
    "test_X = df[split:]['Fuel Consumption Comb (mpg)']\n",
    "test_Y = df[split:]['CO2 Emissions(g/km)']\n",
    "\n",
    "print(train_X.shape)\n",
    "print(train_Y.shape)\n",
    "\n",
    "print(test_X.shape)\n",
    "print(test_Y.shape)"
   ],
   "id": "dbee642afd5dc0fb",
   "outputs": [
    {
     "name": "stdout",
     "output_type": "stream",
     "text": [
      "(5908,)\n",
      "(5908,)\n",
      "(1477,)\n",
      "(1477,)\n"
     ]
    }
   ],
   "execution_count": 61
  },
  {
   "metadata": {
    "ExecuteTime": {
     "end_time": "2025-01-06T16:34:16.403367Z",
     "start_time": "2025-01-06T16:34:16.343389Z"
    }
   },
   "cell_type": "code",
   "source": "plt.scatter(train_X, train_Y)",
   "id": "2484cf1e7cf06671",
   "outputs": [
    {
     "data": {
      "text/plain": [
       "<matplotlib.collections.PathCollection at 0x1221cc390>"
      ]
     },
     "execution_count": 62,
     "metadata": {},
     "output_type": "execute_result"
    },
    {
     "data": {
      "text/plain": [
       "<Figure size 640x480 with 1 Axes>"
      ],
      "image/png": "[encoded data removed]"
     },
     "metadata": {},
     "output_type": "display_data"
    }
   ],
   "execution_count": 62
  },
  {
   "metadata": {},
   "cell_type": "code",
   "outputs": [],
   "execution_count": null,
   "source": "",
   "id": "1c251eaace427050"
  }
 ],
 "metadata": {
  "kernelspec": {
   "display_name": "Python 3",
   "language": "python",
   "name": "python3"
  },
  "language_info": {
   "codemirror_mode": {
    "name": "ipython",
    "version": 2
   },
   "file_extension": ".py",
   "mimetype": "text/x-python",
   "name": "python",
   "nbconvert_exporter": "python",
   "pygments_lexer": "ipython2",
   "version": "2.7.6"
  }
 },
 "nbformat": 4,
 "nbformat_minor": 5
}
